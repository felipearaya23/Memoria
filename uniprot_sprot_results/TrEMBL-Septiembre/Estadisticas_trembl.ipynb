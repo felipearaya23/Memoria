{
 "cells": [
  {
   "cell_type": "code",
   "execution_count": 1,
   "metadata": {
    "collapsed": true
   },
   "outputs": [],
   "source": [
    "from Bio import SeqIO\n",
    "from datetime import datetime\n",
    "import pandas as pd\n",
    "import itertools\n",
    "from itertools import ifilterfalse\n",
    "from Bio.SeqIO.FastaIO import SimpleFastaParser\n",
    "from math import *"
   ]
  },
  {
   "cell_type": "code",
   "execution_count": 4,
   "metadata": {},
   "outputs": [
    {
     "name": "stdout",
     "output_type": "stream",
     "text": [
      "               Encontrados    Porcentaje      Posibles\n",
      "Largo_peptido                                         \n",
      "2                    400.0  1.000000e+02  4.000000e+02\n",
      "3                   8000.0  1.000000e+02  8.000000e+03\n",
      "4                 159999.0  9.999938e+01  1.600000e+05\n",
      "5                3113279.0  9.728997e+01  3.200000e+06\n",
      "6               32900106.0  5.140642e+01  6.400000e+07\n",
      "7               84020753.0  6.564121e+00  1.280000e+09\n",
      "8              100768310.0  3.936262e-01  2.560000e+10\n",
      "9              105700394.0  2.064461e-02  5.120000e+11\n",
      "10             108840630.0  1.062897e-03  1.024000e+13\n",
      "11             111414368.0  5.440155e-05  2.048000e+14\n",
      "12             113613070.0  2.773757e-06  4.096000e+15\n",
      "13             115521079.0  1.410169e-07  8.192000e+16\n",
      "14             117190317.0  7.152729e-09  1.638400e+18\n",
      "15             118656980.0  3.621124e-10  3.276800e+19\n",
      "16             119950123.0  1.830294e-11  6.553600e+20\n",
      "17             121095736.0  9.238871e-13  1.310720e+22\n",
      "18             122113693.0  4.658268e-14  2.621440e+23\n",
      "19             123018839.0  2.346398e-15  5.242880e+24\n",
      "20             123824558.0  1.180883e-16  1.048576e+26\n",
      "21             124543230.0  5.938684e-18  2.097152e+27\n",
      "22             125183771.0  2.984614e-19  4.194304e+28\n",
      "23             125754919.0  1.499115e-20  8.388608e+29\n",
      "24             126264203.0  7.525933e-22  1.677722e+31\n",
      "25             126717615.0  3.776479e-23  3.355443e+32\n",
      "26             127120628.0  1.894245e-24  6.710886e+33\n",
      "27             127477511.0  9.497815e-26  1.342177e+35\n",
      "28             127792564.0  4.760644e-27  2.684355e+36\n",
      "29             128069282.0  2.385476e-28  5.368709e+37\n",
      "30             128310613.0  1.194986e-29  1.073742e+39\n",
      "31             128519956.0  5.984677e-31  2.147484e+40\n",
      "32             128700024.0  2.996531e-32  4.294967e+41\n",
      "33             128853358.0  1.500051e-33  8.589935e+42\n",
      "34             128981702.0  7.507723e-35  1.717987e+44\n",
      "35             129086604.0  3.756915e-36  3.435974e+45\n",
      "36             129169882.0  1.879669e-37  6.871948e+46\n",
      "37             129232888.0  9.402930e-39  1.374390e+48\n",
      "38             129277112.0  4.703074e-40  2.748779e+49\n",
      "39             129304114.0  2.352028e-41  5.497558e+50\n",
      "40             129314741.0  1.176111e-42  1.099512e+52\n",
      "41             129310243.0  5.880349e-44  2.199023e+53\n",
      "42             129291483.0  2.939748e-45  4.398047e+54\n",
      "43             129259147.0  1.469506e-46  8.796093e+55\n",
      "44             129214009.0  7.344966e-48  1.759219e+57\n",
      "45             129156638.0  3.670852e-49  3.518437e+58\n",
      "46             129087893.0  1.834449e-50  7.036874e+59\n",
      "47             129008231.0  9.166586e-52  1.407375e+61\n",
      "48             128918378.0  4.580101e-53  2.814750e+62\n",
      "49             128818671.0  2.288279e-54  5.629500e+63\n",
      "50             128709490.0  1.143170e-55  1.125900e+65\n",
      "Duration: 0:00:00.059666\n"
     ]
    }
   ],
   "source": [
    "#lectura 1\n",
    "start_time = datetime.now()\n",
    "\n",
    "k = []\n",
    "posibles = []\n",
    "encontrados = []\n",
    "porcentaje = []\n",
    "for i in range (2,51):\n",
    "    k.append(i)\n",
    "    posibles.append(pow(20, i))\n",
    "    \n",
    "    \n",
    "\n",
    "\n",
    "#leer el archivo .fasta respectivo\n",
    "with open('resultadosservidorswissprot.txt') as archivo:  # Will close handle cleanly\n",
    "    content = archivo.read().splitlines()\n",
    "    for line in content:\n",
    "        if line.startswith('Diferentes substrings para '):\n",
    "            num = line.split('es ')[-1].strip()\n",
    "            encontrados.append(float(num))\n",
    "            #print int(num)\n",
    "            \n",
    "\n",
    "for j in range (0,49):\n",
    "    percent = (encontrados[j]/posibles[j]) * 100\n",
    "    #redondear = round(percent, 10)\n",
    "    porcentaje.append(percent)\n",
    "    \n",
    "s1 = pd.Series(k, name='Largo_peptido')\n",
    "s2 = pd.Series(posibles, name='Posibles')\n",
    "s3 = pd.Series(encontrados, name='Encontrados')\n",
    "s4 = pd.Series(porcentaje, name='Porcentaje')\n",
    "\n",
    "\n",
    "datos = pd.DataFrame(dict(Largo_peptido=s1, Posibles=s2, Encontrados=s3, Porcentaje=s4)).set_index(['Largo_peptido'])\n",
    "\n",
    "print datos\n",
    "\n",
    "end_time = datetime.now()\n",
    "print('Duration: {}'.format(end_time - start_time))"
   ]
  },
  {
   "cell_type": "code",
   "execution_count": 41,
   "metadata": {},
   "outputs": [],
   "source": [
    "total = 0.0\n",
    "\n",
    "kp = []\n",
    "\n",
    "#leer el archivo .fasta respectivo\n",
    "with open('resultados2swissprot.txt') as archivo:  # Will close handle cleanly\n",
    "    content = archivo.read().splitlines()\n",
    "    for line in content:\n",
    "        if line.startswith('Construcción del '):\n",
    "            num = line.split(': ')[-1].strip()\n",
    "            ralf, michael = num.split(' ')\n",
    "            total = total + float(ralf)\n",
    "            #kp.append(float(ralf))\n",
    "            #print int(num)\n",
    "        elif line.startswith('Tiempo utilizado'):\n",
    "            num = line.split(': ')[-1].strip()\n",
    "            ralf, michael = num.split(' ')\n",
    "            total = total + float(ralf)"
   ]
  },
  {
   "cell_type": "code",
   "execution_count": 42,
   "metadata": {},
   "outputs": [
    {
     "data": {
      "text/plain": [
       "5024.518"
      ]
     },
     "execution_count": 42,
     "metadata": {},
     "output_type": "execute_result"
    }
   ],
   "source": [
    "total"
   ]
  },
  {
   "cell_type": "code",
   "execution_count": null,
   "metadata": {
    "collapsed": true
   },
   "outputs": [],
   "source": []
  }
 ],
 "metadata": {
  "kernelspec": {
   "display_name": "Python 2",
   "language": "python",
   "name": "python2"
  },
  "language_info": {
   "codemirror_mode": {
    "name": "ipython",
    "version": 2
   },
   "file_extension": ".py",
   "mimetype": "text/x-python",
   "name": "python",
   "nbconvert_exporter": "python",
   "pygments_lexer": "ipython2",
   "version": "2.7.13"
  }
 },
 "nbformat": 4,
 "nbformat_minor": 2
}
