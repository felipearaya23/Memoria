{
 "cells": [
  {
   "cell_type": "code",
   "execution_count": 1,
   "metadata": {
    "collapsed": true
   },
   "outputs": [],
   "source": [
    "from Bio import SeqIO\n",
    "from datetime import datetime\n",
    "import pandas as pd\n",
    "import itertools\n",
    "from itertools import ifilterfalse\n",
    "from Bio.SeqIO.FastaIO import SimpleFastaParser\n",
    "from math import *"
   ]
  },
  {
   "cell_type": "code",
   "execution_count": 4,
   "metadata": {},
   "outputs": [
    {
     "name": "stdout",
     "output_type": "stream",
     "text": [
      "               Encontrados    Porcentaje      Posibles\n",
      "Largo_peptido                                         \n",
      "1                     20.0  1.000000e+02  2.000000e+01\n",
      "2                    400.0  1.000000e+02  4.000000e+02\n",
      "3                   8000.0  1.000000e+02  8.000000e+03\n",
      "4                 159999.0  9.999938e+01  1.600000e+05\n",
      "5                3113509.0  9.729716e+01  3.200000e+06\n",
      "6               32921109.0  5.143923e+01  6.400000e+07\n",
      "7               84118859.0  6.571786e+00  1.280000e+09\n",
      "8              100896814.0  3.941282e-01  2.560000e+10\n",
      "9              105834330.0  2.067077e-02  5.120000e+11\n",
      "10             108976567.0  1.064224e-03  1.024000e+13\n",
      "11             111551595.0  5.446855e-05  2.048000e+14\n",
      "12             113751287.0  2.777131e-06  4.096000e+15\n",
      "13             115660117.0  1.411867e-07  8.192000e+16\n",
      "14             117330023.0  7.161256e-09  1.638400e+18\n",
      "15             118797220.0  3.625403e-10  3.276800e+19\n",
      "16             120090802.0  1.832440e-11  6.553600e+20\n",
      "17             121236766.0  9.249631e-13  1.310720e+22\n",
      "18             122255013.0  4.663659e-14  2.621440e+23\n",
      "19             123160391.0  2.349098e-15  5.242880e+24\n",
      "20             123966286.0  1.182235e-16  1.048576e+26\n",
      "21             124685091.0  5.945448e-18  2.097152e+27\n",
      "22             125325735.0  2.987998e-19  4.194304e+28\n",
      "23             125896961.0  1.500809e-20  8.388608e+29\n",
      "24             126406287.0  7.534402e-22  1.677722e+31\n",
      "25             126859712.0  3.780714e-23  3.355443e+32\n",
      "26             127262721.0  1.896362e-24  6.710886e+33\n",
      "27             127619577.0  9.508399e-26  1.342177e+35\n",
      "28             127934582.0  4.765935e-27  2.684355e+36\n",
      "29             128211241.0  2.388120e-28  5.368709e+37\n",
      "30             128452495.0  1.196307e-29  1.073742e+39\n",
      "31             128661754.0  5.991280e-31  2.147484e+40\n",
      "32             128841734.0  2.999830e-32  4.294967e+41\n",
      "33             128994975.0  1.501699e-33  8.589935e+42\n",
      "34             129123214.0  7.515960e-35  1.717987e+44\n",
      "35             129227999.0  3.761030e-36  3.435974e+45\n",
      "36             129311151.0  1.881725e-37  6.871948e+46\n",
      "37             129374023.0  9.413199e-39  1.374390e+48\n",
      "38             129418106.0  4.708203e-40  2.748779e+49\n",
      "39             129444962.0  2.354590e-41  5.497558e+50\n",
      "40             129455435.0  1.177390e-42  1.099512e+52\n",
      "41             129450779.0  5.886740e-44  2.199023e+53\n",
      "42             129431855.0  2.942940e-45  4.398047e+54\n",
      "43             129399352.0  1.471100e-46  8.796093e+55\n",
      "44             129354043.0  7.352926e-48  1.759219e+57\n",
      "45             129296497.0  3.674827e-49  3.518437e+58\n",
      "46             129227572.0  1.836434e-50  7.036874e+59\n",
      "47             129147725.0  9.176498e-52  1.407375e+61\n",
      "48             129057687.0  4.585050e-53  2.814750e+62\n",
      "49             128957792.0  2.290751e-54  5.629500e+63\n",
      "50             128848422.0  1.144404e-55  1.125900e+65\n",
      "Duration: 0:00:03.306810\n"
     ]
    }
   ],
   "source": [
    "#lectura 1\n",
    "start_time = datetime.now()\n",
    "\n",
    "k = []\n",
    "posibles = []\n",
    "encontrados = []\n",
    "porcentaje = []\n",
    "for i in range (1,51):\n",
    "    k.append(i)\n",
    "    posibles.append(pow(20, i))\n",
    "    \n",
    "    \n",
    "\n",
    "\n",
    "#leer el archivo .fasta respectivo\n",
    "with open('results_k1.txt') as archivo:  # Will close handle cleanly\n",
    "    content = archivo.read().splitlines()\n",
    "    for line in content:\n",
    "        if line.startswith('Diferentes substrings para '):\n",
    "            num = line.split('es ')[-1].strip()\n",
    "            encontrados.append(float(num))\n",
    "            #print int(num)\n",
    "            \n",
    "#leer el archivo .fasta respectivo\n",
    "with open('results_k2.txt') as archivo2:  # Will close handle cleanly\n",
    "    content = archivo2.read().splitlines()\n",
    "    for line in content:\n",
    "        if line.startswith('Diferentes substrings para '):\n",
    "            num = line.split('es ')[-1].strip()\n",
    "            encontrados.append(float(num))\n",
    "            #print int(num)\n",
    "            \n",
    "#leer el archivo .fasta respectivo\n",
    "with open('results_k3.txt') as archivo3:  # Will close handle cleanly\n",
    "    content = archivo3.read().splitlines()\n",
    "    for line in content:\n",
    "        if line.startswith('Diferentes substrings para '):\n",
    "            num = line.split('es ')[-1].strip()\n",
    "            encontrados.append(float(num))\n",
    "            #print int(num)\n",
    "            \n",
    "#leer el archivo .fasta respectivo\n",
    "with open('results_k4.txt') as archivo4:  # Will close handle cleanly\n",
    "    content = archivo4.read().splitlines()\n",
    "    for line in content:\n",
    "        if line.startswith('Diferentes substrings para '):\n",
    "            num = line.split('es ')[-1].strip()\n",
    "            encontrados.append(float(num))\n",
    "            #print int(num)\n",
    "            \n",
    "#leer el archivo .fasta respectivo\n",
    "with open('results_k5.txt') as archivo5:  # Will close handle cleanly\n",
    "    content = archivo5.read().splitlines()\n",
    "    for line in content:\n",
    "        if line.startswith('Diferentes substrings para '):\n",
    "            num = line.split('es ')[-1].strip()\n",
    "            encontrados.append(float(num))\n",
    "            #print int(num)\n",
    "            \n",
    "#leer el archivo .fasta respectivo\n",
    "with open('results_k6to50.txt') as archivo6:  # Will close handle cleanly\n",
    "    content = archivo6.read().splitlines()\n",
    "    for line in content:\n",
    "        if line.startswith('Diferentes substrings para '):\n",
    "            num = line.split('es ')[-1].strip()\n",
    "            encontrados.append(float(num))\n",
    "            #print int(num)\n",
    "            \n",
    "\n",
    "for j in range (0,50):\n",
    "    percent = (encontrados[j]/posibles[j]) * 100\n",
    "    #redondear = round(percent, 10)\n",
    "    porcentaje.append(percent)\n",
    "    \n",
    "s1 = pd.Series(k, name='Largo_peptido')\n",
    "s2 = pd.Series(posibles, name='Posibles')\n",
    "s3 = pd.Series(encontrados, name='Encontrados')\n",
    "s4 = pd.Series(porcentaje, name='Porcentaje')\n",
    "\n",
    "\n",
    "datos = pd.DataFrame(dict(Largo_peptido=s1, Posibles=s2, Encontrados=s3, Porcentaje=s4)).set_index(['Largo_peptido'])\n",
    "\n",
    "print datos\n",
    "\n",
    "end_time = datetime.now()\n",
    "print('Duration: {}'.format(end_time - start_time))"
   ]
  },
  {
   "cell_type": "code",
   "execution_count": 41,
   "metadata": {
    "collapsed": true
   },
   "outputs": [],
   "source": [
    "total = 0.0\n",
    "\n",
    "kp = []\n",
    "\n",
    "#leer el archivo .fasta respectivo\n",
    "with open('resultados2swissprot.txt') as archivo:  # Will close handle cleanly\n",
    "    content = archivo.read().splitlines()\n",
    "    for line in content:\n",
    "        if line.startswith('Construcción del '):\n",
    "            num = line.split(': ')[-1].strip()\n",
    "            ralf, michael = num.split(' ')\n",
    "            total = total + float(ralf)\n",
    "            #kp.append(float(ralf))\n",
    "            #print int(num)\n",
    "        elif line.startswith('Tiempo utilizado'):\n",
    "            num = line.split(': ')[-1].strip()\n",
    "            ralf, michael = num.split(' ')\n",
    "            total = total + float(ralf)"
   ]
  },
  {
   "cell_type": "code",
   "execution_count": 42,
   "metadata": {},
   "outputs": [
    {
     "data": {
      "text/plain": [
       "5024.518"
      ]
     },
     "execution_count": 42,
     "metadata": {},
     "output_type": "execute_result"
    }
   ],
   "source": [
    "total"
   ]
  },
  {
   "cell_type": "code",
   "execution_count": null,
   "metadata": {
    "collapsed": true
   },
   "outputs": [],
   "source": []
  }
 ],
 "metadata": {
  "kernelspec": {
   "display_name": "Python 2",
   "language": "python",
   "name": "python2"
  },
  "language_info": {
   "codemirror_mode": {
    "name": "ipython",
    "version": 2
   },
   "file_extension": ".py",
   "mimetype": "text/x-python",
   "name": "python",
   "nbconvert_exporter": "python",
   "pygments_lexer": "ipython2",
   "version": "2.7.13"
  }
 },
 "nbformat": 4,
 "nbformat_minor": 2
}
